{
  "nbformat": 4,
  "nbformat_minor": 0,
  "metadata": {
    "colab": {
      "name": "HW4.ipynb",
      "provenance": [],
      "collapsed_sections": []
    },
    "kernelspec": {
      "name": "python3",
      "display_name": "Python 3"
    },
    "language_info": {
      "name": "python"
    },
    "accelerator": "GPU"
  },
  "cells": [
    {
      "cell_type": "code",
      "metadata": {
        "id": "q9vLCjgF-ZmK"
      },
      "source": [
        "import numpy as np\n",
        "import tensorflow as tf\n",
        "from tensorflow.keras.models import Sequential, Model\n",
        "from tensorflow.keras.layers import Conv2D, Input\n",
        "from tensorflow.keras.layers import GlobalMaxPooling2D, MaxPooling2D, AveragePooling2D, GlobalAveragePooling2D "
      ],
      "execution_count": 81,
      "outputs": []
    },
    {
      "cell_type": "code",
      "metadata": {
        "id": "5L0x15faB_S3"
      },
      "source": [
        "from tensorflow.keras.datasets import mnist, fashion_mnist\n",
        "from tensorflow.keras.utils import to_categorical\n",
        "from tensorflow.keras import models, layers\n",
        "import tensorflow.keras as keras"
      ],
      "execution_count": 82,
      "outputs": []
    },
    {
      "cell_type": "markdown",
      "metadata": {
        "id": "FYRBwdIcCKVI"
      },
      "source": [
        "Нейронная сеть AlexNet."
      ]
    },
    {
      "cell_type": "code",
      "metadata": {
        "id": "k0HL7dDNCDxf"
      },
      "source": [
        "# загрузка тренировочных и тестовых данных\n",
        "(x_train, y_train), (x_test, y_test)=fashion_mnist.load_data()"
      ],
      "execution_count": 83,
      "outputs": []
    },
    {
      "cell_type": "code",
      "metadata": {
        "id": "l-r0zaF7CGNh"
      },
      "source": [
        "# конвертация чисел из uint8 в float32\n",
        "x_train = x_train.astype('float32')\n",
        "x_test = x_test.astype('float32')"
      ],
      "execution_count": 84,
      "outputs": []
    },
    {
      "cell_type": "code",
      "metadata": {
        "id": "V1dFmgwvCaiL"
      },
      "source": [
        "# нормализация данных [0, 1]\n",
        "x_train /= 255 \n",
        "x_test /= 255 "
      ],
      "execution_count": 85,
      "outputs": []
    },
    {
      "cell_type": "code",
      "metadata": {
        "id": "aTh3KkOYCd4X"
      },
      "source": [
        "# трансформация лейблов в one-hot encoding\n",
        "y_train = to_categorical(y_train, 10) \n",
        "y_test = to_categorical(y_test, 10) \n",
        "\n",
        "# изменение размерности массива в 4D массив\n",
        "x_train = x_train.reshape(x_train.shape[0], 28,28,1)\n",
        "x_test = x_test.reshape(x_test.shape[0], 28,28,1)"
      ],
      "execution_count": 86,
      "outputs": []
    },
    {
      "cell_type": "code",
      "metadata": {
        "id": "FSGbhqV4DJ2R"
      },
      "source": [
        "# инициализация пустой модели\n",
        "model = Sequential()"
      ],
      "execution_count": 87,
      "outputs": []
    },
    {
      "cell_type": "code",
      "metadata": {
        "id": "EkKL2m6FCsHI"
      },
      "source": [
        "\n",
        "model.add(layers.Conv2D(32, kernel_size=(3, 3), strides=(1, 1), activation='relu', input_shape=(28,28,1), padding='same'))\n",
        "model.add(layers.MaxPooling2D(pool_size=(2, 2), strides=(2, 2), padding='valid'))\n",
        "\n",
        "model.add(layers.Conv2D(64, kernel_size=(5, 5), strides=(1, 1), activation='relu', padding='same'))\n",
        "model.add(layers.MaxPooling2D(pool_size=(2, 2), strides=(2, 2), padding='valid'))\n",
        "\n",
        "model.add(layers.Conv2D(192, kernel_size=(3, 3), strides=(1, 1), activation='relu', padding='same'))\n",
        "model.add(layers.Conv2D(384, kernel_size=(3, 3), strides=(1, 1), activation='relu', padding='same'))\n",
        "model.add(layers.Conv2D(256, kernel_size=(3, 3), strides=(1, 1), activation='relu', padding='same'))\n",
        "model.add(layers.MaxPooling2D(pool_size=(2, 2), strides=(2, 2), padding='valid'))\n",
        "\n",
        "\n",
        "# сглаживание CNN выхода чтобы можно было его присоединить к полносвязногому слою\n",
        "model.add(layers.Flatten())\n",
        "\n",
        "# полносвязный слой\n",
        "model.add(layers.Dense(2048, activation='relu'))\n",
        "model.add(layers.Dense(2048, activation='relu'))\n",
        "\n",
        "# выходной слой с функцией активации softmax\n",
        "model.add(layers.Dense(10, activation='softmax'))"
      ],
      "execution_count": 88,
      "outputs": []
    },
    {
      "cell_type": "code",
      "metadata": {
        "id": "mDbSXOFgDNO8"
      },
      "source": [
        "# компилияция модели\n",
        "model.compile(loss=keras.losses.categorical_crossentropy, optimizer='adam', metrics=[\"accuracy\"])"
      ],
      "execution_count": 90,
      "outputs": []
    },
    {
      "cell_type": "code",
      "metadata": {
        "colab": {
          "base_uri": "https://localhost:8080/"
        },
        "id": "26vi2HCmDUQc",
        "outputId": "dbf8fc41-7976-4e0e-b69e-5cf7866d8521"
      },
      "source": [
        "hist = model.fit(x=x_train,y=y_train, epochs=2, batch_size=32, validation_data=(x_test, y_test), verbose=1)\n",
        "\n",
        "test_score = model.evaluate(x_test, y_test)\n",
        "print(\"Test loss {:.4f}, accuracy {:.2f}%\".format(test_score[0], test_score[1] * 100))"
      ],
      "execution_count": 91,
      "outputs": [
        {
          "output_type": "stream",
          "text": [
            "Epoch 1/2\n",
            "1875/1875 [==============================] - 16s 8ms/step - loss: 0.4578 - accuracy: 0.8308 - val_loss: 0.3410 - val_accuracy: 0.8742\n",
            "Epoch 2/2\n",
            "1875/1875 [==============================] - 15s 8ms/step - loss: 0.2946 - accuracy: 0.8923 - val_loss: 0.2738 - val_accuracy: 0.8985\n",
            "313/313 [==============================] - 1s 4ms/step - loss: 0.2738 - accuracy: 0.8985\n",
            "Test loss 0.2738, accuracy 89.85%\n"
          ],
          "name": "stdout"
        }
      ]
    },
    {
      "cell_type": "code",
      "metadata": {
        "colab": {
          "base_uri": "https://localhost:8080/"
        },
        "id": "QvtVh9aXE7q3",
        "outputId": "ad24e076-da14-4386-d1fc-8cee9202d070"
      },
      "source": [
        "model.summary()"
      ],
      "execution_count": 92,
      "outputs": [
        {
          "output_type": "stream",
          "text": [
            "Model: \"sequential_23\"\n",
            "_________________________________________________________________\n",
            "Layer (type)                 Output Shape              Param #   \n",
            "=================================================================\n",
            "conv2d_100 (Conv2D)          (None, 28, 28, 32)        320       \n",
            "_________________________________________________________________\n",
            "max_pooling2d_60 (MaxPooling (None, 14, 14, 32)        0         \n",
            "_________________________________________________________________\n",
            "conv2d_101 (Conv2D)          (None, 14, 14, 64)        51264     \n",
            "_________________________________________________________________\n",
            "max_pooling2d_61 (MaxPooling (None, 7, 7, 64)          0         \n",
            "_________________________________________________________________\n",
            "conv2d_102 (Conv2D)          (None, 7, 7, 192)         110784    \n",
            "_________________________________________________________________\n",
            "conv2d_103 (Conv2D)          (None, 7, 7, 384)         663936    \n",
            "_________________________________________________________________\n",
            "conv2d_104 (Conv2D)          (None, 7, 7, 256)         884992    \n",
            "_________________________________________________________________\n",
            "max_pooling2d_62 (MaxPooling (None, 3, 3, 256)         0         \n",
            "_________________________________________________________________\n",
            "flatten_3 (Flatten)          (None, 2304)              0         \n",
            "_________________________________________________________________\n",
            "dense_8 (Dense)              (None, 2048)              4720640   \n",
            "_________________________________________________________________\n",
            "dense_9 (Dense)              (None, 2048)              4196352   \n",
            "_________________________________________________________________\n",
            "dense_10 (Dense)             (None, 10)                20490     \n",
            "=================================================================\n",
            "Total params: 10,648,778\n",
            "Trainable params: 10,648,778\n",
            "Non-trainable params: 0\n",
            "_________________________________________________________________\n"
          ],
          "name": "stdout"
        }
      ]
    },
    {
      "cell_type": "code",
      "metadata": {
        "id": "OFTpqHXIFE29"
      },
      "source": [
        "y_pred=model.predict(x_test)"
      ],
      "execution_count": 93,
      "outputs": []
    },
    {
      "cell_type": "code",
      "metadata": {
        "id": "ymT6T67Vkf1o"
      },
      "source": [
        "import matplotlib.pyplot as plt"
      ],
      "execution_count": 94,
      "outputs": []
    },
    {
      "cell_type": "code",
      "metadata": {
        "id": "zP08r8yWFM18",
        "colab": {
          "base_uri": "https://localhost:8080/",
          "height": 547
        },
        "outputId": "0c1a32fe-0f15-4149-8cb1-29a5ad508fbf"
      },
      "source": [
        "plt.plot(y_pred[0][:])\n",
        "plt.show()\n",
        "print(y_pred[0][:])\n",
        "plt.imshow(x_test[0][:,:,0])\n",
        "plt.show()"
      ],
      "execution_count": 95,
      "outputs": [
        {
          "output_type": "display_data",
          "data": {
            "image/png": "[encoded data removed]",
            "text/plain": [
              "<Figure size 432x288 with 1 Axes>"
            ]
          },
          "metadata": {
            "tags": [],
            "needs_background": "light"
          }
        },
        {
          "output_type": "stream",
          "text": [
            "[8.4707246e-08 1.4105686e-07 7.8717835e-07 1.2325231e-07 2.8436625e-06\n",
            " 9.3750440e-04 6.1825585e-07 1.8241135e-05 4.0322611e-08 9.9903959e-01]\n"
          ],
          "name": "stdout"
        },
        {
          "output_type": "display_data",
          "data": {
            "image/png": "[encoded data removed]",
            "text/plain": [
              "<Figure size 432x288 with 1 Axes>"
            ]
          },
          "metadata": {
            "tags": [],
            "needs_background": "light"
          }
        }
      ]
    }
  ]
}